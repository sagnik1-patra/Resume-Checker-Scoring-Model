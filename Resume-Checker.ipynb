{
 "cells": [
  {
   "cell_type": "code",
   "execution_count": 1,
   "id": "163bf863-78b3-4bf8-8891-90b26fe83e27",
   "metadata": {},
   "outputs": [
    {
     "name": "stdout",
     "output_type": "stream",
     "text": [
      "Requirement already satisfied: numpy==1.26 in c:\\users\\sagni\\appdata\\local\\programs\\python\\python311\\lib\\site-packages (1.26.0)\n",
      "Requirement already satisfied: torch==2.2.2 in c:\\users\\sagni\\appdata\\local\\programs\\python\\python311\\lib\\site-packages (2.2.2)\n",
      "Requirement already satisfied: torchvision==0.17.2 in c:\\users\\sagni\\appdata\\local\\programs\\python\\python311\\lib\\site-packages (0.17.2)\n",
      "Requirement already satisfied: torchaudio==2.2.2 in c:\\users\\sagni\\appdata\\local\\programs\\python\\python311\\lib\\site-packages (2.2.2)\n",
      "Requirement already satisfied: filelock in c:\\users\\sagni\\appdata\\local\\programs\\python\\python311\\lib\\site-packages (from torch==2.2.2) (3.17.0)\n",
      "Requirement already satisfied: typing-extensions>=4.8.0 in c:\\users\\sagni\\appdata\\local\\programs\\python\\python311\\lib\\site-packages (from torch==2.2.2) (4.12.2)\n",
      "Requirement already satisfied: sympy in c:\\users\\sagni\\appdata\\local\\programs\\python\\python311\\lib\\site-packages (from torch==2.2.2) (1.14.0)\n",
      "Requirement already satisfied: networkx in c:\\users\\sagni\\appdata\\local\\programs\\python\\python311\\lib\\site-packages (from torch==2.2.2) (3.4.2)\n",
      "Requirement already satisfied: jinja2 in c:\\users\\sagni\\appdata\\local\\programs\\python\\python311\\lib\\site-packages (from torch==2.2.2) (3.1.6)\n",
      "Requirement already satisfied: fsspec in c:\\users\\sagni\\appdata\\local\\programs\\python\\python311\\lib\\site-packages (from torch==2.2.2) (2025.3.0)\n",
      "Requirement already satisfied: pillow!=8.3.*,>=5.3.0 in c:\\users\\sagni\\appdata\\local\\programs\\python\\python311\\lib\\site-packages (from torchvision==0.17.2) (10.2.0)\n",
      "Requirement already satisfied: MarkupSafe>=2.0 in c:\\users\\sagni\\appdata\\local\\programs\\python\\python311\\lib\\site-packages (from jinja2->torch==2.2.2) (3.0.2)\n",
      "Requirement already satisfied: mpmath<1.4,>=1.1.0 in c:\\users\\sagni\\appdata\\local\\programs\\python\\python311\\lib\\site-packages (from sympy->torch==2.2.2) (1.3.0)\n"
     ]
    }
   ],
   "source": [
    "!pip install numpy==1.26 torch==2.2.2 torchvision==0.17.2 torchaudio==2.2.2\n"
   ]
  },
  {
   "cell_type": "code",
   "execution_count": 2,
   "id": "5ee43747-c2b6-40ab-bfe6-38e5840222f6",
   "metadata": {},
   "outputs": [
    {
     "name": "stdout",
     "output_type": "stream",
     "text": [
      "numpy: 1.26.0\n",
      "torch: 2.2.2+cpu\n",
      "torchvision: 0.17.2+cpu\n",
      "torchaudio: 2.2.2+cpu\n"
     ]
    }
   ],
   "source": [
    "import numpy, torch, torchvision, torchaudio\n",
    "print(\"numpy:\", numpy.__version__)\n",
    "print(\"torch:\", torch.__version__)\n",
    "print(\"torchvision:\", torchvision.__version__)\n",
    "print(\"torchaudio:\", torchaudio.__version__)\n"
   ]
  },
  {
   "cell_type": "code",
   "execution_count": 3,
   "id": "2dd5bc3f-01ae-46e4-9a38-3963afc9bf87",
   "metadata": {},
   "outputs": [
    {
     "name": "stdout",
     "output_type": "stream",
     "text": [
      "Collecting en-core-web-sm==3.8.0\n",
      "  Downloading https://github.com/explosion/spacy-models/releases/download/en_core_web_sm-3.8.0/en_core_web_sm-3.8.0-py3-none-any.whl (12.8 MB)\n",
      "     ---------------------------------------- 0.0/12.8 MB ? eta -:--:--\n",
      "     --- ------------------------------------ 1.0/12.8 MB 12.7 MB/s eta 0:00:01\n",
      "     ------ --------------------------------- 2.1/12.8 MB 5.6 MB/s eta 0:00:02\n",
      "     --------- ------------------------------ 2.9/12.8 MB 5.4 MB/s eta 0:00:02\n",
      "     ------------- -------------------------- 4.2/12.8 MB 5.6 MB/s eta 0:00:02\n",
      "     --------------- ------------------------ 5.0/12.8 MB 5.1 MB/s eta 0:00:02\n",
      "     ------------------ --------------------- 5.8/12.8 MB 4.9 MB/s eta 0:00:02\n",
      "     ------------------- -------------------- 6.3/12.8 MB 4.6 MB/s eta 0:00:02\n",
      "     --------------------- ------------------ 6.8/12.8 MB 4.2 MB/s eta 0:00:02\n",
      "     ---------------------- ----------------- 7.3/12.8 MB 4.1 MB/s eta 0:00:02\n",
      "     ------------------------ --------------- 7.9/12.8 MB 4.0 MB/s eta 0:00:02\n",
      "     -------------------------- ------------- 8.4/12.8 MB 3.8 MB/s eta 0:00:02\n",
      "     --------------------------- ------------ 8.9/12.8 MB 3.7 MB/s eta 0:00:02\n",
      "     ----------------------------- ---------- 9.4/12.8 MB 3.6 MB/s eta 0:00:01\n",
      "     ------------------------------- -------- 10.2/12.8 MB 3.6 MB/s eta 0:00:01\n",
      "     ---------------------------------- ----- 11.0/12.8 MB 3.6 MB/s eta 0:00:01\n",
      "     ------------------------------------ --- 11.8/12.8 MB 3.6 MB/s eta 0:00:01\n",
      "     ---------------------------------------  12.6/12.8 MB 3.6 MB/s eta 0:00:01\n",
      "     ---------------------------------------- 12.8/12.8 MB 3.6 MB/s eta 0:00:00\n",
      "\u001b[38;5;2m[+] Download and installation successful\u001b[0m\n",
      "You can now load the package via spacy.load('en_core_web_sm')\n",
      "Dataset shape: (962, 2)\n",
      "       Category                                             Resume\n",
      "0  Data Science  Skills * Programming Languages: Python (pandas...\n",
      "1  Data Science  Education Details \\nMay 2013 to May 2017 B.E  ...\n",
      "2  Data Science  Areas of Interest Deep Learning, Control Syste...\n",
      "3  Data Science  Skills â¢ R â¢ Python â¢ SAP HANA â¢ Table...\n",
      "4  Data Science  Education Details \\n MCA   YMCAUST,  Faridabad...\n",
      "Labels: {'Data Science': 0, 'HR': 1, 'Advocate': 2, 'Arts': 3, 'Web Designing': 4, 'Mechanical Engineer': 5, 'Sales': 6, 'Health and fitness': 7, 'Civil Engineer': 8, 'Java Developer': 9, 'Business Analyst': 10, 'SAP Developer': 11, 'Automation Testing': 12, 'Electrical Engineering': 13, 'Operations Manager': 14, 'Python Developer': 15, 'DevOps Engineer': 16, 'Network Security Engineer': 17, 'PMO': 18, 'Database': 19, 'Hadoop': 20, 'ETL Developer': 21, 'DotNet Developer': 22, 'Blockchain': 23, 'Testing': 24}\n"
     ]
    },
    {
     "name": "stderr",
     "output_type": "stream",
     "text": [
      "Some weights of BertForSequenceClassification were not initialized from the model checkpoint at bert-base-uncased and are newly initialized: ['classifier.bias', 'classifier.weight']\n",
      "You should probably TRAIN this model on a down-stream task to be able to use it for predictions and inference.\n",
      "Epoch 1/2: 100%|███████████████████████████████████████████████████████████████████████████████████████████████████████████| 97/97 [17:28<00:00, 10.81s/it]\n"
     ]
    },
    {
     "name": "stdout",
     "output_type": "stream",
     "text": [
      "Epoch 1 Loss: 2.9417\n"
     ]
    },
    {
     "name": "stderr",
     "output_type": "stream",
     "text": [
      "Epoch 2/2: 100%|███████████████████████████████████████████████████████████████████████████████████████████████████████████| 97/97 [17:28<00:00, 10.81s/it]\n"
     ]
    },
    {
     "name": "stdout",
     "output_type": "stream",
     "text": [
      "Epoch 2 Loss: 1.9478\n"
     ]
    },
    {
     "name": "stderr",
     "output_type": "stream",
     "text": [
      "C:\\Users\\sagni\\AppData\\Local\\Programs\\Python\\Python311\\Lib\\site-packages\\sklearn\\metrics\\_classification.py:1731: UndefinedMetricWarning: Precision is ill-defined and being set to 0.0 in labels with no predicted samples. Use `zero_division` parameter to control this behavior.\n",
      "  _warn_prf(average, modifier, f\"{metric.capitalize()} is\", result.shape[0])\n",
      "C:\\Users\\sagni\\AppData\\Local\\Programs\\Python\\Python311\\Lib\\site-packages\\sklearn\\metrics\\_classification.py:1731: UndefinedMetricWarning: Precision is ill-defined and being set to 0.0 in labels with no predicted samples. Use `zero_division` parameter to control this behavior.\n",
      "  _warn_prf(average, modifier, f\"{metric.capitalize()} is\", result.shape[0])\n",
      "C:\\Users\\sagni\\AppData\\Local\\Programs\\Python\\Python311\\Lib\\site-packages\\sklearn\\metrics\\_classification.py:1731: UndefinedMetricWarning: Precision is ill-defined and being set to 0.0 in labels with no predicted samples. Use `zero_division` parameter to control this behavior.\n",
      "  _warn_prf(average, modifier, f\"{metric.capitalize()} is\", result.shape[0])\n"
     ]
    },
    {
     "name": "stdout",
     "output_type": "stream",
     "text": [
      "\n",
      "📈 Classification Report:\n",
      "                            precision    recall  f1-score   support\n",
      "\n",
      "             Data Science       1.00      1.00      1.00         8\n",
      "                       HR       1.00      1.00      1.00         9\n",
      "                 Advocate       1.00      1.00      1.00         4\n",
      "                     Arts       1.00      1.00      1.00         7\n",
      "            Web Designing       0.82      1.00      0.90         9\n",
      "      Mechanical Engineer       1.00      1.00      1.00         8\n",
      "                    Sales       1.00      1.00      1.00         8\n",
      "       Health and fitness       1.00      1.00      1.00         6\n",
      "           Civil Engineer       1.00      1.00      1.00         5\n",
      "           Java Developer       0.89      1.00      0.94        17\n",
      "         Business Analyst       1.00      1.00      1.00         6\n",
      "            SAP Developer       1.00      1.00      1.00         5\n",
      "       Automation Testing       0.00      0.00      0.00         5\n",
      "   Electrical Engineering       0.75      1.00      0.86         6\n",
      "       Operations Manager       0.80      1.00      0.89         8\n",
      "         Python Developer       1.00      1.00      1.00        10\n",
      "          DevOps Engineer       0.79      1.00      0.88        11\n",
      "Network Security Engineer       1.00      1.00      1.00         5\n",
      "                      PMO       1.00      1.00      1.00         6\n",
      "                 Database       1.00      1.00      1.00         7\n",
      "                   Hadoop       1.00      1.00      1.00         8\n",
      "            ETL Developer       1.00      1.00      1.00         8\n",
      "         DotNet Developer       1.00      0.20      0.33         5\n",
      "               Blockchain       1.00      0.62      0.77         8\n",
      "                  Testing       0.93      1.00      0.97        14\n",
      "\n",
      "                 accuracy                           0.94       193\n",
      "                macro avg       0.92      0.91      0.90       193\n",
      "             weighted avg       0.92      0.94      0.92       193\n",
      "\n",
      "✅ Model and tokenizer saved to './resume_model'\n"
     ]
    }
   ],
   "source": [
    "# 🚨 Install dependencies (only once)\n",
    "!pip install transformers spacy scikit-learn pandas tqdm --quiet\n",
    "!python -m spacy download en_core_web_sm\n",
    "\n",
    "# 📦 Imports\n",
    "import pandas as pd\n",
    "import numpy as np\n",
    "import torch\n",
    "from torch.utils.data import Dataset, DataLoader\n",
    "from transformers import BertTokenizerFast, BertForSequenceClassification\n",
    "from torch.optim import AdamW\n",
    "from sklearn.model_selection import train_test_split\n",
    "from sklearn.metrics import classification_report\n",
    "import spacy\n",
    "from tqdm import tqdm\n",
    "\n",
    "# 📥 Load Dataset\n",
    "data_path = r\"C:\\Users\\sagni\\Downloads\\Resume Selector\\UpdatedResumeDataSet.csv\"\n",
    "df = pd.read_csv(data_path)\n",
    "print(f\"Dataset shape: {df.shape}\")\n",
    "print(df.head())\n",
    "\n",
    "# 🧹 Clean and Preprocess with SpaCy\n",
    "nlp = spacy.load('en_core_web_sm')\n",
    "def preprocess(text):\n",
    "    doc = nlp(str(text).lower())\n",
    "    return ' '.join([token.lemma_ for token in doc if not token.is_stop and not token.is_punct])\n",
    "\n",
    "df['clean_text'] = df['Resume'].apply(preprocess)\n",
    "df['label'] = pd.factorize(df['Category'])[0]\n",
    "label2id = dict(zip(pd.factorize(df['Category'])[1], range(len(pd.factorize(df['Category'])[1]))))\n",
    "id2label = {v: k for k, v in label2id.items()}\n",
    "print(f\"Labels: {label2id}\")\n",
    "\n",
    "# 🔀 Train/Test Split\n",
    "X_train, X_val, y_train, y_val = train_test_split(df['clean_text'], df['label'], test_size=0.2, stratify=df['label'], random_state=42)\n",
    "\n",
    "# 📚 Tokenizer and Dataset\n",
    "tokenizer = BertTokenizerFast.from_pretrained('bert-base-uncased')\n",
    "class ResumeDataset(Dataset):\n",
    "    def __init__(self, texts, labels, tokenizer, max_len=256):\n",
    "        self.texts, self.labels, self.tokenizer, self.max_len = texts, labels, tokenizer, max_len\n",
    "    def __len__(self): return len(self.texts)\n",
    "    def __getitem__(self, idx):\n",
    "        encodings = self.tokenizer(self.texts.iloc[idx], truncation=True, padding='max_length', max_length=self.max_len, return_tensors='pt')\n",
    "        return {key: val.squeeze(0) for key, val in encodings.items()}, torch.tensor(int(self.labels.iloc[idx]), dtype=torch.long)\n",
    "\n",
    "train_dataset = ResumeDataset(X_train, y_train, tokenizer)\n",
    "val_dataset = ResumeDataset(X_val, y_val, tokenizer)\n",
    "train_loader = DataLoader(train_dataset, batch_size=8, shuffle=True)\n",
    "val_loader = DataLoader(val_dataset, batch_size=8)\n",
    "\n",
    "# 🏗️ Model Setup\n",
    "device = torch.device('cuda' if torch.cuda.is_available() else 'cpu')\n",
    "model = BertForSequenceClassification.from_pretrained('bert-base-uncased', num_labels=len(label2id))\n",
    "model = model.to(device)\n",
    "optimizer = AdamW(model.parameters(), lr=2e-5)\n",
    "\n",
    "# 🔥 Training\n",
    "epochs = 2  # increase for better accuracy\n",
    "for epoch in range(epochs):\n",
    "    model.train()\n",
    "    total_loss = 0\n",
    "    for batch in tqdm(train_loader, desc=f\"Epoch {epoch+1}/{epochs}\"):\n",
    "        inputs, labels_batch = batch\n",
    "        inputs = {k: v.to(device) for k, v in inputs.items()}\n",
    "        labels_batch = labels_batch.to(device)\n",
    "        outputs = model(**inputs, labels=labels_batch)\n",
    "        loss = outputs.loss\n",
    "        total_loss += loss.item()\n",
    "        optimizer.zero_grad()\n",
    "        loss.backward()\n",
    "        optimizer.step()\n",
    "    print(f\"Epoch {epoch+1} Loss: {total_loss / len(train_loader):.4f}\")\n",
    "\n",
    "# 📊 Validation\n",
    "model.eval()\n",
    "y_pred, y_true = [], []\n",
    "with torch.no_grad():\n",
    "    for batch in val_loader:\n",
    "        inputs, labels_batch = batch\n",
    "        inputs = {k: v.to(device) for k, v in inputs.items()}\n",
    "        logits = model(**inputs).logits\n",
    "        preds = torch.argmax(logits, dim=1).cpu().detach().numpy()\n",
    "        y_pred.extend(preds)\n",
    "        y_true.extend(labels_batch.numpy())\n",
    "print(\"\\n📈 Classification Report:\\n\", classification_report(y_true, y_pred, target_names=list(label2id.keys())))\n",
    "\n",
    "# 💾 Save Model\n",
    "model.save_pretrained('./resume_model')\n",
    "tokenizer.save_pretrained('./resume_model')\n",
    "print(\"✅ Model and tokenizer saved to './resume_model'\")\n"
   ]
  },
  {
   "cell_type": "code",
   "execution_count": null,
   "id": "09a37ae7-ab5d-4eb4-8af0-8324cb7e8683",
   "metadata": {},
   "outputs": [],
   "source": []
  }
 ],
 "metadata": {
  "kernelspec": {
   "display_name": "Python 3.11 (moviepy)",
   "language": "python",
   "name": "py311"
  },
  "language_info": {
   "codemirror_mode": {
    "name": "ipython",
    "version": 3
   },
   "file_extension": ".py",
   "mimetype": "text/x-python",
   "name": "python",
   "nbconvert_exporter": "python",
   "pygments_lexer": "ipython3",
   "version": "3.11.9"
  }
 },
 "nbformat": 4,
 "nbformat_minor": 5
}
